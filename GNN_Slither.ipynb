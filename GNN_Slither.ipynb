{
  "nbformat": 4,
  "nbformat_minor": 0,
  "metadata": {
    "colab": {
      "provenance": [],
      "toc_visible": true,
      "authorship_tag": "ABX9TyP5lU+sSbC9O68Wx1wFM4l8",
      "include_colab_link": true
    },
    "kernelspec": {
      "name": "python3",
      "display_name": "Python 3"
    },
    "language_info": {
      "name": "python"
    }
  },
  "cells": [
    {
      "cell_type": "markdown",
      "metadata": {
        "id": "view-in-github",
        "colab_type": "text"
      },
      "source": [
        "<a href=\"https://colab.research.google.com/github/Miyamura80/Fuma_Fuzz/blob/main/GNN_Slither.ipynb\" target=\"_parent\"><img src=\"https://colab.research.google.com/assets/colab-badge.svg\" alt=\"Open In Colab\"/></a>"
      ]
    },
    {
      "cell_type": "code",
      "execution_count": 1,
      "metadata": {
        "colab": {
          "base_uri": "https://localhost:8080/"
        },
        "id": "HVr_t21wuTm3",
        "outputId": "6d0a3d31-0aa1-4638-9c21-21e875f2ed34"
      },
      "outputs": [
        {
          "output_type": "stream",
          "name": "stdout",
          "text": [
            "\u001b[?25l     \u001b[90m━━━━━━━━━━━━━━━━━━━━━━━━━━━━━━━━━━━━━━━━\u001b[0m \u001b[32m0.0/352.1 kB\u001b[0m \u001b[31m?\u001b[0m eta \u001b[36m-:--:--\u001b[0m\r\u001b[2K     \u001b[91m━━━━━━━━━━━━━━━━━━━━━━━━━━━━━━━\u001b[0m\u001b[91m╸\u001b[0m\u001b[90m━━━━━━━\u001b[0m \u001b[32m286.7/352.1 kB\u001b[0m \u001b[31m8.4 MB/s\u001b[0m eta \u001b[36m0:00:01\u001b[0m\r\u001b[2K     \u001b[90m━━━━━━━━━━━━━━━━━━━━━━━━━━━━━━━━━━━━━━━\u001b[0m \u001b[32m352.1/352.1 kB\u001b[0m \u001b[31m7.1 MB/s\u001b[0m eta \u001b[36m0:00:00\u001b[0m\n",
            "\u001b[2K     \u001b[90m━━━━━━━━━━━━━━━━━━━━━━━━━━━━━━━━━━━━━━\u001b[0m \u001b[32m140.1/140.1 kB\u001b[0m \u001b[31m13.1 MB/s\u001b[0m eta \u001b[36m0:00:00\u001b[0m\n",
            "\u001b[2K     \u001b[90m━━━━━━━━━━━━━━━━━━━━━━━━━━━━━━━━━━━━━━\u001b[0m \u001b[32m442.6/442.6 kB\u001b[0m \u001b[31m27.9 MB/s\u001b[0m eta \u001b[36m0:00:00\u001b[0m\n",
            "\u001b[2K     \u001b[90m━━━━━━━━━━━━━━━━━━━━━━━━━━━━━━━━━━━━━━\u001b[0m \u001b[32m135.6/135.6 kB\u001b[0m \u001b[31m13.4 MB/s\u001b[0m eta \u001b[36m0:00:00\u001b[0m\n",
            "\u001b[2K     \u001b[90m━━━━━━━━━━━━━━━━━━━━━━━━━━━━━━━━━━━━━━\u001b[0m \u001b[32m184.3/184.3 kB\u001b[0m \u001b[31m18.8 MB/s\u001b[0m eta \u001b[36m0:00:00\u001b[0m\n",
            "\u001b[2K     \u001b[90m━━━━━━━━━━━━━━━━━━━━━━━━━━━━━━━━━━━━━━━━\u001b[0m \u001b[32m10.7/10.7 MB\u001b[0m \u001b[31m69.0 MB/s\u001b[0m eta \u001b[36m0:00:00\u001b[0m\n",
            "\u001b[2K     \u001b[90m━━━━━━━━━━━━━━━━━━━━━━━━━━━━━━━━━━━━━━━━\u001b[0m \u001b[32m79.6/79.6 kB\u001b[0m \u001b[31m7.9 MB/s\u001b[0m eta \u001b[36m0:00:00\u001b[0m\n",
            "\u001b[2K     \u001b[90m━━━━━━━━━━━━━━━━━━━━━━━━━━━━━━━━━━━━━━━\u001b[0m \u001b[32m137.4/137.4 kB\u001b[0m \u001b[31m8.8 MB/s\u001b[0m eta \u001b[36m0:00:00\u001b[0m\n",
            "\u001b[2K     \u001b[90m━━━━━━━━━━━━━━━━━━━━━━━━━━━━━━━━━━━━━━━━\u001b[0m \u001b[32m67.7/67.7 kB\u001b[0m \u001b[31m6.4 MB/s\u001b[0m eta \u001b[36m0:00:00\u001b[0m\n",
            "\u001b[2K     \u001b[90m━━━━━━━━━━━━━━━━━━━━━━━━━━━━━━━━━━━━━━━━\u001b[0m \u001b[32m62.7/62.7 kB\u001b[0m \u001b[31m6.3 MB/s\u001b[0m eta \u001b[36m0:00:00\u001b[0m\n",
            "\u001b[2K     \u001b[90m━━━━━━━━━━━━━━━━━━━━━━━━━━━━━━━━━━━━━━━━\u001b[0m \u001b[32m66.4/66.4 kB\u001b[0m \u001b[31m6.8 MB/s\u001b[0m eta \u001b[36m0:00:00\u001b[0m\n",
            "\u001b[?25h"
          ]
        }
      ],
      "source": [
        "!pip install -q dm-haiku spektral optax neptune flax"
      ]
    },
    {
      "cell_type": "markdown",
      "source": [
        "# Init\n"
      ],
      "metadata": {
        "id": "xiSE_YeOuzz1"
      }
    },
    {
      "cell_type": "code",
      "source": [
        "import jax\n",
        "import jax.numpy as jnp\n",
        "import haiku as hk\n",
        "from flax import linen as nn\n",
        "from flax.training import train_state\n",
        "import optax\n",
        "import neptune\n",
        "import statistics\n",
        "import itertools\n",
        "\n",
        "\n",
        "import numpy as np\n",
        "from typing import Sequence\n"
      ],
      "metadata": {
        "id": "5pQ6LjDbuuRL"
      },
      "execution_count": 69,
      "outputs": []
    },
    {
      "cell_type": "markdown",
      "source": [
        "# Models\n"
      ],
      "metadata": {
        "id": "t-GC7q2Ouvzw"
      }
    },
    {
      "cell_type": "markdown",
      "source": [
        "## GIN"
      ],
      "metadata": {
        "id": "YW1Ou_icuw-0"
      }
    },
    {
      "cell_type": "code",
      "source": [
        "class GINLayer(nn.Module):\n",
        "    hidden_dim: int\n",
        "    eps: float = 0.0\n",
        "\n",
        "    @nn.compact\n",
        "    def __call__(self, x, adj):\n",
        "        # Initialize the learnable parameters\n",
        "        weight_init = jax.nn.initializers.xavier_uniform()\n",
        "        bias_init = jax.nn.initializers.zeros\n",
        "        w = self.param(\"w\", weight_init, (x.shape[-1],self.hidden_dim)) # (f, h)\n",
        "        b = self.param(\"b\", bias_init, (self.hidden_dim,)) # (h)\n",
        "        \n",
        "        # Update the node features using the GIN aggregation function\n",
        "        sum_neighbors = jnp.dot(adj, x) # (n,n) @ (n, f) -> (n,f)\n",
        "        out = ((1 + self.eps) * x) + sum_neighbors # (n,f)\n",
        "        return nn.relu(jnp.dot(out, w) + b) # (n,h)\n",
        "\n",
        "class GINModel(nn.Module):\n",
        "    hidden_dims: Sequence[int]\n",
        "    eps_list: Sequence[float] = None\n",
        "\n",
        "    def setup(self):\n",
        "        self.epsilons = [0.0 for i in range(len(self.hidden_dims))] if self.eps_list==None else self.eps_list\n",
        "        assert len(self.hidden_dims) == len(self.epsilons), \"Hidden dimensions and epsilons should have the same length.\"\n",
        "\n",
        "    @nn.compact\n",
        "    def __call__(self, x, adj):\n",
        "        for i,h_dim in enumerate(self.hidden_dims):\n",
        "            x = GINLayer(h_dim, self.epsilons[i])(x, adj)\n",
        "        return x\n",
        "\n",
        "def example_usage2():\n",
        "    hidden_dims = [32,32]\n",
        "    model = GINModel(hidden_dims=hidden_dims)\n",
        "\n",
        "    key = jax.random.PRNGKey(0)\n",
        "    batch_adj = jax.random.randint(key, (64, 64), 0, 2)\n",
        "    batch = jnp.ones((64, 10))\n",
        "\n",
        "    params = model.init(jax.random.PRNGKey(0), batch, batch_adj)\n",
        "    output = model.apply(params, batch, batch_adj)\n",
        "    print(\"Output shape:\", output.shape)\n",
        "\n",
        "\n",
        "if __name__ == \"__main__\":\n",
        "    example_usage2()\n"
      ],
      "metadata": {
        "colab": {
          "base_uri": "https://localhost:8080/"
        },
        "id": "YXuM72CrJ2u7",
        "outputId": "c1e803a3-48e2-4e34-8b94-8f76f2637965"
      },
      "execution_count": 15,
      "outputs": [
        {
          "output_type": "stream",
          "name": "stdout",
          "text": [
            "Output shape: (64, 32)\n"
          ]
        }
      ]
    },
    {
      "cell_type": "markdown",
      "source": [
        "# Utils"
      ],
      "metadata": {
        "id": "6j9_JPcxzv2Z"
      }
    },
    {
      "cell_type": "markdown",
      "source": [
        "## get_model(config: dict, hidden_channels: List[int]) -> Model, Params"
      ],
      "metadata": {
        "id": "Rrs5iqsazw_k"
      }
    },
    {
      "cell_type": "code",
      "source": [
        "def get_model(config: dict, hidden_channels: Sequence[int]):\n",
        "    n_nodes = config[\"n_nodes\"]\n",
        "\n",
        "    if config[\"model\"]==\"GIN\":\n",
        "        model = GINModel(hidden_channels)\n",
        "        params = model.init(jax.random.PRNGKey(0), \n",
        "                   jnp.ones([n_nodes, config[\"in_channels\"]]),\n",
        "                   jnp.ones([n_nodes, n_nodes]))\n",
        "    else:\n",
        "        model_name = config[\"model\"]\n",
        "        raise ValueError(f\"No model of name: {model_name} found\")\n",
        "    return model, params\n",
        "\n"
      ],
      "metadata": {
        "id": "ClS5OfCAz29S"
      },
      "execution_count": 64,
      "outputs": []
    },
    {
      "cell_type": "markdown",
      "source": [
        "# Dataset\n"
      ],
      "metadata": {
        "id": "-DioGOJe0pVf"
      }
    },
    {
      "cell_type": "markdown",
      "source": [
        "## Loading Standard Dataset: 70/20/10 Split\n",
        "X_train, y_train, adj_train"
      ],
      "metadata": {
        "id": "t_ORq3ao0s4j"
      }
    },
    {
      "cell_type": "code",
      "source": [
        "import jax\n",
        "import jax.numpy as jnp\n",
        "import haiku as hk\n",
        "import optax\n",
        "\n",
        "from spektral.datasets import Cora\n",
        "from spektral.utils import normalized_adjacency\n",
        "import numpy as np\n",
        "\n",
        "# GIN layer and GIN model functions (copy from the previous Haiku-based code snippet)\n",
        "\n",
        "# Load the CORA dataset\n",
        "data = Cora()\n",
        "dataset = data[0]\n",
        "adj = normalized_adjacency(dataset.a)\n",
        "node_feats = dataset.x\n",
        "labels = np.argmax(dataset.y, axis=-1)\n",
        "\n",
        "\n",
        "# Set the ratios\n",
        "train_ratio = 0.7\n",
        "valid_ratio = 0.2\n",
        "test_ratio = 0.1\n",
        "\n",
        "# Calculate the number of samples for each set\n",
        "n_samples = dataset.n_nodes\n",
        "n_train = int(train_ratio * n_samples)\n",
        "n_valid = int(valid_ratio * n_samples)\n",
        "\n",
        "# Create indices for splitting\n",
        "indices = np.arange(n_samples)\n",
        "np.random.shuffle(indices)\n",
        "\n",
        "# Split the indices\n",
        "train_indices = indices[:n_train]\n",
        "valid_indices = indices[n_train:(n_train + n_valid)]\n",
        "test_indices = indices[(n_train + n_valid):]\n",
        "\n",
        "# Split the data\n",
        "adj_train = adj[train_indices, :][:, train_indices]\n",
        "X_train = node_feats[train_indices]\n",
        "y_train = labels[train_indices]\n",
        "\n",
        "adj_val = adj[valid_indices, :][:, valid_indices]\n",
        "X_val = node_feats[valid_indices]\n",
        "y_val = labels[valid_indices]\n",
        "\n",
        "adj_test = adj[test_indices, :][:, test_indices]\n",
        "X_test = node_feats[test_indices]\n",
        "y_test = labels[test_indices]\n",
        "\n",
        "\n",
        "# Convert data to JAX arrays\n",
        "adj_train = jnp.array(adj_train.todense(), dtype=jnp.float32)\n",
        "X_train = jnp.array(X_train, dtype=jnp.float32)\n",
        "y_train = jnp.array(y_train, dtype=jnp.int32)\n",
        "\n",
        "adj_val = jnp.array(adj_val.todense(), dtype=jnp.float32)\n",
        "X_val = jnp.array(X_val, dtype=jnp.float32)\n",
        "y_val = jnp.array(y_val, dtype=jnp.int32)\n",
        "\n",
        "adj_test = jnp.array(adj_test.todense(), dtype=jnp.float32)\n",
        "X_test = jnp.array(X_test, dtype=jnp.float32)\n",
        "y_test = jnp.array(y_test, dtype=jnp.int32)\n"
      ],
      "metadata": {
        "colab": {
          "base_uri": "https://localhost:8080/"
        },
        "id": "hALtmCrEbyv4",
        "outputId": "3d304104-4cb7-436a-cad9-c9b34e59ec23"
      },
      "execution_count": 66,
      "outputs": [
        {
          "output_type": "stream",
          "name": "stderr",
          "text": [
            "/usr/local/lib/python3.9/dist-packages/scipy/sparse/_index.py:146: SparseEfficiencyWarning: Changing the sparsity structure of a csr_matrix is expensive. lil_matrix is more efficient.\n",
            "  self._set_arrayXarray(i, j, x)\n"
          ]
        }
      ]
    },
    {
      "cell_type": "code",
      "source": [
        "dataset"
      ],
      "metadata": {
        "colab": {
          "base_uri": "https://localhost:8080/"
        },
        "id": "GahRpCObJigl",
        "outputId": "9da8faa7-48c8-4ad3-ca08-e33b95421f19"
      },
      "execution_count": 24,
      "outputs": [
        {
          "output_type": "execute_result",
          "data": {
            "text/plain": [
              "Graph(n_nodes=2708, n_node_features=1433, n_edge_features=None, n_labels=7)"
            ]
          },
          "metadata": {},
          "execution_count": 24
        }
      ]
    },
    {
      "cell_type": "markdown",
      "source": [
        "# Training"
      ],
      "metadata": {
        "id": "h0GfnzNd1F05"
      }
    },
    {
      "cell_type": "markdown",
      "source": [
        "## Setup"
      ],
      "metadata": {
        "id": "k5AY-tqwMTbT"
      }
    },
    {
      "cell_type": "markdown",
      "source": [
        "## Training Functions"
      ],
      "metadata": {
        "id": "LllOZVf71JOo"
      }
    },
    {
      "cell_type": "code",
      "source": [
        "# Needed for JAX apply_model quirk\n",
        "NUM_CLASSES = dataset.n_labels\n",
        "\n",
        "@jax.jit\n",
        "def apply_model(state, x, adj, labels):\n",
        "    \"\"\"Computes gradients, loss and accuracy for a single batch.\"\"\"\n",
        "    def loss_fn(params):\n",
        "        logits = state.apply_fn(params, x, adj)\n",
        "        one_hot = jax.nn.one_hot(labels, NUM_CLASSES)\n",
        "        loss = jnp.mean(optax.softmax_cross_entropy(logits=logits, labels=one_hot))\n",
        "        return loss, logits\n",
        "\n",
        "    grad_fn = jax.value_and_grad(loss_fn, has_aux=True)\n",
        "    (loss, logits), grads = grad_fn(state.params)\n",
        "    accuracy = jnp.mean(jnp.argmax(logits, -1) == labels)\n",
        "    return grads, loss, accuracy\n",
        "\n",
        "@jax.jit\n",
        "def update_model(state, grads):\n",
        "    return state.apply_gradients(grads=grads)\n",
        "\n",
        "def train_epoch(state, x, adj, labels):\n",
        "    \"\"\"Train for a single epoch.\"\"\"\n",
        "    # BACKLOG: Add batches here\n",
        "    grads, train_loss, train_accuracy = apply_model(state, x, adj, labels)\n",
        "    state = update_model(state, grads)\n",
        "    return state, train_loss, train_accuracy\n",
        "\n",
        "def create_train_state(rng, config) -> train_state.TrainState:\n",
        "    \"\"\"Creates initial `TrainState`.\"\"\"\n",
        "    n_nodes = config[\"n_nodes\"]\n",
        "    hidden_channels = (config[\"num_layers\"]-1)* [config[\"hidden_channels\"]] \\\n",
        "                      + [config[\"out_channels\"]]\n",
        "    \n",
        "    model, params = get_model(config, hidden_channels)\n",
        "    tx = optax.sgd(config[\"lr\"], config[\"momentum\"])\n",
        "    return train_state.TrainState.create(\n",
        "        apply_fn=model.apply, params=params, tx=tx)\n",
        "\n",
        "def train_and_evaluate(config: dict, neptune_client=None) -> train_state.TrainState:\n",
        "    \"\"\"Execute model training and evaluation loop.\n",
        "    Args:\n",
        "      config: Hyperparameter configuration for training and evaluation.\n",
        "    Returns:\n",
        "      The train state (which includes the `.params`).\n",
        "    \"\"\"\n",
        "    \n",
        "    # Create rng\n",
        "    rng = jax.random.PRNGKey(0)\n",
        "    neptune_client[\"params\"][\"rng\"] = rng\n",
        "    rng, current_rng = jax.random.split(rng)\n",
        "\n",
        "    # Early stopping measures\n",
        "    best_acc_this_config = 0.0\n",
        "    best_train_tracker = []\n",
        "    best_state_this_config = None\n",
        "\n",
        "    for try_n in range(config[\"retry_num\"]):\n",
        "        # Create training state\n",
        "        state = create_train_state(current_rng, config)\n",
        "        rng, current_rng = jax.random.split(rng)\n",
        "\n",
        "        # Early stopping parameters\n",
        "        epochs_without_improvement = 0\n",
        "        best_test_accuracy = 0.0\n",
        "        best_model_state = None\n",
        "\n",
        "        # List to store test accuracies\n",
        "        try_train_tracker = []\n",
        "        val_accuracies = []\n",
        "\n",
        "        best_perform = True\n",
        "\n",
        "        for epoch in range(1, config[\"epoch\"] + 1):            \n",
        "            state, train_loss, train_accuracy = train_epoch(state, X_train, adj_train, y_train)\n",
        "            _, val_loss, val_accuracy = apply_model(state, X_val, adj_val, y_val)\n",
        "\n",
        "            val_accuracies.append(val_accuracy)\n",
        "            # Update best test accuracy and model state\n",
        "            if val_accuracy > best_test_accuracy:\n",
        "                best_test_accuracy = val_accuracy\n",
        "                best_model_state = state\n",
        "                epochs_without_improvement = 0\n",
        "            else:\n",
        "                epochs_without_improvement += 1\n",
        "            \n",
        "            # Early stopping\n",
        "            if epochs_without_improvement >= config[\"early_stopping_threshold\"]:\n",
        "                best_perform = best_test_accuracy > best_acc_this_config\n",
        "                print(f\"Early stopping at epoch {epoch}.\")\n",
        "                break\n",
        "\n",
        "            # Log\n",
        "            try_train_tracker.append({\n",
        "                \"train_loss\": train_loss,\n",
        "                \"train_accuracy\": train_accuracy,\n",
        "                \"val_accuracy\": val_accuracy,\n",
        "                \"val_loss\": val_loss,\n",
        "            })\n",
        "\n",
        "            if epoch % 10 == 0:\n",
        "                print(\n",
        "                    'epoch:% 3d, train_loss: %.4f, train_accuracy: %.2f, val_loss: %.4f, val_accuracy: %.2f'\n",
        "                    % (epoch, train_loss, train_accuracy * 100, val_loss,\n",
        "                      val_accuracy * 100))\n",
        "        if best_perform:\n",
        "            best_acc_this_config = best_test_accuracy\n",
        "            best_model_this_config = best_model_state\n",
        "            best_train_tracker = try_train_tracker\n",
        "\n",
        "            neptune_client[\"params\"][\"best_val_accuracy\"] = best_acc_this_config\n",
        "            neptune_client[\"params\"][\"stop_epoch\"] = epoch\n",
        "            val_acc_floats = [arr.item() for arr in val_accuracies]\n",
        "            neptune_client[\"params\"][\"val_acc_std\"] = statistics.stdev(val_acc_floats)\n",
        "            best_perform = False\n",
        "\n",
        "    # Plot the best run\n",
        "    for i,epoch_detail in enumerate(best_train_tracker):\n",
        "        neptune_client['train/train_loss'].append(epoch_detail[\"train_loss\"])\n",
        "        neptune_client['train/train_accuracy'].append(epoch_detail[\"train_accuracy\"])\n",
        "        neptune_client['train/val_loss'].append(epoch_detail[\"val_loss\"])\n",
        "        neptune_client['train/val_accuracy'].append(epoch_detail[\"val_accuracy\"])\n",
        "\n",
        "    neptune_client.stop()\n",
        "    return best_state_this_config\n",
        "\n",
        "\n"
      ],
      "metadata": {
        "id": "hXne3U8y051d"
      },
      "execution_count": 81,
      "outputs": []
    },
    {
      "cell_type": "code",
      "source": [],
      "metadata": {
        "id": "Cx1pk2UvOvqn"
      },
      "execution_count": null,
      "outputs": []
    },
    {
      "cell_type": "markdown",
      "source": [
        "## Main Loop"
      ],
      "metadata": {
        "id": "5vdfwiUqJtBy"
      }
    },
    {
      "cell_type": "code",
      "source": [
        "# lr_list = [0.01, 0.1]\n",
        "# num_layer_list = [1,2,3]\n",
        "# hidden_ch_list = [16,32,64]\n",
        "lr_list = [0.1]\n",
        "num_layer_list = [2]\n",
        "hidden_ch_list = [32]\n",
        "\n",
        "prod_params = list(itertools.product(lr_list, num_layer_list,hidden_ch_list))\n",
        "\n",
        "dataset_param_name = \"Cora\"\n",
        "\n",
        "\n",
        "\n",
        "for (lr, n_layers,hidden_ch) in prod_params:\n",
        "    run = neptune.init_run(\n",
        "        capture_hardware_metrics=True,\n",
        "        capture_stderr=True,\n",
        "        capture_stdout=True,\n",
        "    )\n",
        "    config = {\"lr\": lr, \n",
        "              \"optimizer\": \"SGD\", \n",
        "              \"loss\": \"ce\",\n",
        "              \"epoch\": 300, \n",
        "              \"batch_size\": 16, \n",
        "              \"momentum\": 0.9, \n",
        "              \"early_stopping_threshold\": 10,\n",
        "              \"retry_num\": 5,\n",
        "              # Dataset Related,\n",
        "              \"dataset\": dataset_param_name,\n",
        "              # Model Related\n",
        "              \"model\": \"GIN\",\n",
        "              \"num_layers\": n_layers,\n",
        "              \"hidden_channels\": hidden_ch,\n",
        "              \"n_nodes\": dataset.n_nodes,\n",
        "              \"in_channels\": dataset.n_node_features,\n",
        "              \"out_channels\": dataset.n_labels,\n",
        "              }\n",
        "    run[\"parameters\"] = config\n",
        "\n",
        "    state = train_and_evaluate(config, run)"
      ],
      "metadata": {
        "colab": {
          "base_uri": "https://localhost:8080/"
        },
        "id": "CH5uHLcrJucd",
        "outputId": "c7009b42-9c70-4eaa-c605-319e225a7e4a"
      },
      "execution_count": 82,
      "outputs": [
        {
          "output_type": "stream",
          "name": "stdout",
          "text": [
            "https://app.neptune.ai/miyamura80/Slither-Graph-CFG/e/SLIT-1\n",
            "epoch: 10, train_loss: 1.4122, train_accuracy: 50.03, val_loss: 1.6148, val_accuracy: 46.03\n",
            "epoch: 20, train_loss: 0.6581, train_accuracy: 82.80, val_loss: 1.0586, val_accuracy: 70.43\n",
            "epoch: 30, train_loss: 0.3996, train_accuracy: 88.50, val_loss: 0.8306, val_accuracy: 73.94\n",
            "epoch: 40, train_loss: 0.2882, train_accuracy: 91.45, val_loss: 0.7657, val_accuracy: 75.42\n",
            "Early stopping at epoch 44.\n",
            "epoch: 10, train_loss: 1.4122, train_accuracy: 50.03, val_loss: 1.6148, val_accuracy: 46.03\n",
            "epoch: 20, train_loss: 0.6581, train_accuracy: 82.80, val_loss: 1.0586, val_accuracy: 70.43\n",
            "epoch: 30, train_loss: 0.3996, train_accuracy: 88.50, val_loss: 0.8306, val_accuracy: 73.94\n",
            "epoch: 40, train_loss: 0.2882, train_accuracy: 91.45, val_loss: 0.7657, val_accuracy: 75.42\n",
            "Early stopping at epoch 44.\n",
            "epoch: 10, train_loss: 1.4122, train_accuracy: 50.03, val_loss: 1.6148, val_accuracy: 46.03\n",
            "epoch: 20, train_loss: 0.6581, train_accuracy: 82.80, val_loss: 1.0586, val_accuracy: 70.43\n",
            "epoch: 30, train_loss: 0.3996, train_accuracy: 88.50, val_loss: 0.8306, val_accuracy: 73.94\n",
            "epoch: 40, train_loss: 0.2882, train_accuracy: 91.45, val_loss: 0.7657, val_accuracy: 75.42\n",
            "Early stopping at epoch 44.\n",
            "epoch: 10, train_loss: 1.4122, train_accuracy: 50.03, val_loss: 1.6148, val_accuracy: 46.03\n",
            "epoch: 20, train_loss: 0.6581, train_accuracy: 82.80, val_loss: 1.0586, val_accuracy: 70.43\n",
            "epoch: 30, train_loss: 0.3996, train_accuracy: 88.50, val_loss: 0.8306, val_accuracy: 73.94\n",
            "epoch: 40, train_loss: 0.2882, train_accuracy: 91.45, val_loss: 0.7657, val_accuracy: 75.42\n",
            "Early stopping at epoch 44.\n",
            "epoch: 10, train_loss: 1.4122, train_accuracy: 50.03, val_loss: 1.6148, val_accuracy: 46.03\n",
            "epoch: 20, train_loss: 0.6581, train_accuracy: 82.80, val_loss: 1.0586, val_accuracy: 70.43\n",
            "epoch: 30, train_loss: 0.3996, train_accuracy: 88.50, val_loss: 0.8306, val_accuracy: 73.94\n",
            "epoch: 40, train_loss: 0.2882, train_accuracy: 91.45, val_loss: 0.7657, val_accuracy: 75.42\n",
            "Early stopping at epoch 44.\n",
            "Shutting down background jobs, please wait a moment...\n",
            "Done!\n",
            "Waiting for the remaining 179 operations to synchronize with Neptune. Do not kill this process.\n",
            "All 179 operations synced, thanks for waiting!\n",
            "Explore the metadata in the Neptune app:\n",
            "https://app.neptune.ai/miyamura80/Slither-Graph-CFG/e/SLIT-1/metadata\n"
          ]
        }
      ]
    },
    {
      "cell_type": "code",
      "source": [],
      "metadata": {
        "id": "rJNeciV205_i"
      },
      "execution_count": null,
      "outputs": []
    }
  ]
}